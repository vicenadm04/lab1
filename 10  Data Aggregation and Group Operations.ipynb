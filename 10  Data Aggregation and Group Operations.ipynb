{
 "cells": [
  {
   "cell_type": "markdown",
   "id": "ed0aca09",
   "metadata": {},
   "source": [
    "# 10  Data Aggregation and Group Operations\n"
   ]
  },
  {
   "cell_type": "code",
   "execution_count": 2,
   "id": "7119900e",
   "metadata": {},
   "outputs": [],
   "source": [
    "import numpy as np\n",
    "import pandas as pd\n"
   ]
  },
  {
   "cell_type": "markdown",
   "id": "13009554",
   "metadata": {},
   "source": [
    "## 1 Cómo pensar en las operaciones de grupo\n"
   ]
  },
  {
   "cell_type": "markdown",
   "id": "3e8d485b",
   "metadata": {},
   "source": [
    "\n",
    " \"dividir-aplicar-combinar\" para describir las operaciones de agrupación.\n",
    "  En la primera etapa del proceso, los datos de un objeto pandas, ya sea una serie, un DataFrame u otro, se dividen en grupos según una o más claves proporcionadas. La división se realiza en un eje específico del objeto. Por ejemplo, un DataFrame se puede agrupar por sus filas ( axis=\"index\") o columnas ( axis=\"columns\"). Una vez hecho esto, se aplica una función a cada grupo, generando un nuevo valor. Finalmente, los resultados de todas esas aplicaciones de función se combinan en un objeto resultante. La forma del objeto resultante suele depender del procesamiento de los datos.\n",
    "  ![  ](image.png)"
   ]
  },
  {
   "cell_type": "code",
   "execution_count": 10,
   "id": "9d373e72",
   "metadata": {},
   "outputs": [
    {
     "data": {
      "text/html": [
       "<div>\n",
       "<style scoped>\n",
       "    .dataframe tbody tr th:only-of-type {\n",
       "        vertical-align: middle;\n",
       "    }\n",
       "\n",
       "    .dataframe tbody tr th {\n",
       "        vertical-align: top;\n",
       "    }\n",
       "\n",
       "    .dataframe thead th {\n",
       "        text-align: right;\n",
       "    }\n",
       "</style>\n",
       "<table border=\"1\" class=\"dataframe\">\n",
       "  <thead>\n",
       "    <tr style=\"text-align: right;\">\n",
       "      <th></th>\n",
       "      <th>Nombre</th>\n",
       "      <th>Ciudad</th>\n",
       "      <th>Edad</th>\n",
       "      <th>Puntuacion</th>\n",
       "      <th>Categoria</th>\n",
       "    </tr>\n",
       "  </thead>\n",
       "  <tbody>\n",
       "    <tr>\n",
       "      <th>0</th>\n",
       "      <td>Juan</td>\n",
       "      <td>Madrid</td>\n",
       "      <td>25</td>\n",
       "      <td>80</td>\n",
       "      <td>A</td>\n",
       "    </tr>\n",
       "    <tr>\n",
       "      <th>1</th>\n",
       "      <td>Ana</td>\n",
       "      <td>Barcelona</td>\n",
       "      <td>33</td>\n",
       "      <td>90</td>\n",
       "      <td>A</td>\n",
       "    </tr>\n",
       "    <tr>\n",
       "      <th>2</th>\n",
       "      <td>Luis</td>\n",
       "      <td>Madrid</td>\n",
       "      <td>30</td>\n",
       "      <td>85</td>\n",
       "      <td>B</td>\n",
       "    </tr>\n",
       "    <tr>\n",
       "      <th>3</th>\n",
       "      <td>Laura</td>\n",
       "      <td>Valencia</td>\n",
       "      <td>28</td>\n",
       "      <td>88</td>\n",
       "      <td>A</td>\n",
       "    </tr>\n",
       "    <tr>\n",
       "      <th>4</th>\n",
       "      <td>Pedro</td>\n",
       "      <td>Barcelona</td>\n",
       "      <td>45</td>\n",
       "      <td>75</td>\n",
       "      <td>B</td>\n",
       "    </tr>\n",
       "    <tr>\n",
       "      <th>5</th>\n",
       "      <td>Carla</td>\n",
       "      <td>Madrid</td>\n",
       "      <td>38</td>\n",
       "      <td>91</td>\n",
       "      <td>B</td>\n",
       "    </tr>\n",
       "  </tbody>\n",
       "</table>\n",
       "</div>"
      ],
      "text/plain": [
       "  Nombre     Ciudad  Edad  Puntuacion Categoria\n",
       "0   Juan     Madrid    25          80         A\n",
       "1    Ana  Barcelona    33          90         A\n",
       "2   Luis     Madrid    30          85         B\n",
       "3  Laura   Valencia    28          88         A\n",
       "4  Pedro  Barcelona    45          75         B\n",
       "5  Carla     Madrid    38          91         B"
      ]
     },
     "execution_count": 10,
     "metadata": {},
     "output_type": "execute_result"
    }
   ],
   "source": [
    "data = { 'Nombre' : ['Juan', 'Ana', 'Luis', 'Laura', 'Pedro', 'Carla'],\n",
    "         'Ciudad': ['Madrid', 'Barcelona', 'Madrid', 'Valencia', 'Barcelona', 'Madrid'],\n",
    "         'Edad': [25, 33, 30, 28, 45, 38],\n",
    "         'Puntuacion': [80, 90, 85, 88, 75, 91],\n",
    "         'Categoria' : ['A','A','B','A','B','B']\n",
    "\n",
    "}\n",
    "df = pd.DataFrame(data)\n",
    "df"
   ]
  },
  {
   "cell_type": "code",
   "execution_count": 11,
   "id": "79c42915",
   "metadata": {},
   "outputs": [
    {
     "data": {
      "text/plain": [
       "<pandas.core.groupby.generic.SeriesGroupBy object at 0x00000204281F79D0>"
      ]
     },
     "execution_count": 11,
     "metadata": {},
     "output_type": "execute_result"
    }
   ],
   "source": [
    "#calcular la media de edad por ciudad\n",
    "grouped = df[\"Edad\"].groupby(df[\"Ciudad\"])\n",
    "grouped"
   ]
  },
  {
   "cell_type": "markdown",
   "id": "c6b26419",
   "metadata": {},
   "source": [
    "Esta grouped variable ahora es un objeto especial \"GroupBy\" . Aún no ha calculado nada, salvo algunos datos intermedios sobre la clave de grupo df[\"key1\"]. La idea es que este objeto contenga toda la información necesaria para aplicar alguna operación a cada uno de los grupos"
   ]
  },
  {
   "cell_type": "code",
   "execution_count": 12,
   "id": "53f4c971",
   "metadata": {},
   "outputs": [
    {
     "data": {
      "text/plain": [
       "Ciudad\n",
       "Barcelona    39.0\n",
       "Madrid       31.0\n",
       "Valencia     28.0\n",
       "Name: Edad, dtype: float64"
      ]
     },
     "execution_count": 12,
     "metadata": {},
     "output_type": "execute_result"
    }
   ],
   "source": [
    "#En este caso, lo que ves es un Series, no un DataFrame.\n",
    "grouped.mean()"
   ]
  },
  {
   "cell_type": "markdown",
   "id": "328b874d",
   "metadata": {},
   "source": [
    " Lo importante es que los datos (una Serie) se han agregado dividiéndolos en la clave de grupo, lo que genera una nueva Serie indexada por los valores únicos de la key1columna. El índice resultante tiene el nombre \"key1\"porque la columna DataFrame df[\"key1\"]lo tenía."
   ]
  },
  {
   "cell_type": "code",
   "execution_count": 8,
   "id": "301b728f",
   "metadata": {},
   "outputs": [
    {
     "data": {
      "text/html": [
       "<div>\n",
       "<style scoped>\n",
       "    .dataframe tbody tr th:only-of-type {\n",
       "        vertical-align: middle;\n",
       "    }\n",
       "\n",
       "    .dataframe tbody tr th {\n",
       "        vertical-align: top;\n",
       "    }\n",
       "\n",
       "    .dataframe thead th {\n",
       "        text-align: right;\n",
       "    }\n",
       "</style>\n",
       "<table border=\"1\" class=\"dataframe\">\n",
       "  <thead>\n",
       "    <tr style=\"text-align: right;\">\n",
       "      <th></th>\n",
       "      <th>Edad</th>\n",
       "    </tr>\n",
       "    <tr>\n",
       "      <th>Ciudad</th>\n",
       "      <th></th>\n",
       "    </tr>\n",
       "  </thead>\n",
       "  <tbody>\n",
       "    <tr>\n",
       "      <th>Barcelona</th>\n",
       "      <td>39.0</td>\n",
       "    </tr>\n",
       "    <tr>\n",
       "      <th>Madrid</th>\n",
       "      <td>31.0</td>\n",
       "    </tr>\n",
       "    <tr>\n",
       "      <th>Valencia</th>\n",
       "      <td>28.0</td>\n",
       "    </tr>\n",
       "  </tbody>\n",
       "</table>\n",
       "</div>"
      ],
      "text/plain": [
       "           Edad\n",
       "Ciudad         \n",
       "Barcelona  39.0\n",
       "Madrid     31.0\n",
       "Valencia   28.0"
      ]
     },
     "execution_count": 8,
     "metadata": {},
     "output_type": "execute_result"
    }
   ],
   "source": [
    "df = pd.DataFrame(grouped.mean())\n",
    "df"
   ]
  },
  {
   "cell_type": "code",
   "execution_count": 14,
   "id": "ef2b4c8e",
   "metadata": {},
   "outputs": [
    {
     "data": {
      "text/plain": [
       "Ciudad     Categoria\n",
       "Barcelona  A            33.0\n",
       "           B            45.0\n",
       "Madrid     A            25.0\n",
       "           B            34.0\n",
       "Valencia   A            28.0\n",
       "Name: Edad, dtype: float64"
      ]
     },
     "execution_count": 14,
     "metadata": {},
     "output_type": "execute_result"
    }
   ],
   "source": [
    "#Si en cambio hubiéramos pasado múltiples matrices como una lista, obtendríamos algo diferente:\n",
    "means = df[\"Edad\"].groupby([df[\"Ciudad\"], df[\"Categoria\"]]).mean()\n",
    "means\n"
   ]
  },
  {
   "cell_type": "markdown",
   "id": "9892fbb7",
   "metadata": {},
   "source": [
    "Aquí agrupamos los datos utilizando dos claves, y la serie resultante ahora tiene un índice jerárquico que consta de los pares únicos de claves observados:"
   ]
  },
  {
   "cell_type": "markdown",
   "id": "6004d37e",
   "metadata": {},
   "source": [
    "## 2 Agregación de datos"
   ]
  },
  {
   "cell_type": "markdown",
   "id": "f4f6a354",
   "metadata": {},
   "source": [
    "## 5 Tablas dinámicas y tabulación cruzada"
   ]
  }
 ],
 "metadata": {
  "kernelspec": {
   "display_name": "venv",
   "language": "python",
   "name": "python3"
  },
  "language_info": {
   "codemirror_mode": {
    "name": "ipython",
    "version": 3
   },
   "file_extension": ".py",
   "mimetype": "text/x-python",
   "name": "python",
   "nbconvert_exporter": "python",
   "pygments_lexer": "ipython3",
   "version": "3.13.2"
  }
 },
 "nbformat": 4,
 "nbformat_minor": 5
}
