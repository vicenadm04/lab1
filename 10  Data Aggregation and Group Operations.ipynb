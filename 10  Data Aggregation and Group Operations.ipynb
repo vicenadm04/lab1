{
 "cells": [
  {
   "cell_type": "markdown",
   "id": "ed0aca09",
   "metadata": {},
   "source": [
    "# Data Aggregation and Group Operations\n"
   ]
  },
  {
   "cell_type": "code",
   "execution_count": 2,
   "id": "7119900e",
   "metadata": {},
   "outputs": [],
   "source": [
    "import numpy as np\n",
    "import pandas as pd\n"
   ]
  },
  {
   "cell_type": "markdown",
   "id": "cf26a703",
   "metadata": {},
   "source": [
    "Para entrar en este capitulo no perdamos de vista ésta idea **DIVIDIR - APLICAR - COMBINAR**\n",
    "\n",
    "**Dividir:**  Separar los datos según una o mas claves.<br>\n",
    "**Aplicar:**  Ejecutar una función sobre cada grupo.<br>\n",
    "**Combinar:** Reunir los resultados en un nuebo objeto.<br>\n",
    "\n",
    "Así Pandas ejecuta las operaciones de grupos mediante el método de <span style=\"color:blue\">**.groupby( )**</span>"
   ]
  },
  {
   "cell_type": "code",
   "execution_count": 53,
   "id": "12cf7c0c",
   "metadata": {},
   "outputs": [
    {
     "data": {
      "text/html": [
       "<div>\n",
       "<style scoped>\n",
       "    .dataframe tbody tr th:only-of-type {\n",
       "        vertical-align: middle;\n",
       "    }\n",
       "\n",
       "    .dataframe tbody tr th {\n",
       "        vertical-align: top;\n",
       "    }\n",
       "\n",
       "    .dataframe thead th {\n",
       "        text-align: right;\n",
       "    }\n",
       "</style>\n",
       "<table border=\"1\" class=\"dataframe\">\n",
       "  <thead>\n",
       "    <tr style=\"text-align: right;\">\n",
       "      <th></th>\n",
       "      <th>Nombre</th>\n",
       "      <th>Ciudad</th>\n",
       "      <th>Edad</th>\n",
       "      <th>Puntuacion</th>\n",
       "      <th>Categoria</th>\n",
       "    </tr>\n",
       "  </thead>\n",
       "  <tbody>\n",
       "    <tr>\n",
       "      <th>0</th>\n",
       "      <td>Juan</td>\n",
       "      <td>Madrid</td>\n",
       "      <td>25</td>\n",
       "      <td>80</td>\n",
       "      <td>A</td>\n",
       "    </tr>\n",
       "    <tr>\n",
       "      <th>1</th>\n",
       "      <td>Ana</td>\n",
       "      <td>Barcelona</td>\n",
       "      <td>33</td>\n",
       "      <td>90</td>\n",
       "      <td>A</td>\n",
       "    </tr>\n",
       "    <tr>\n",
       "      <th>2</th>\n",
       "      <td>Luis</td>\n",
       "      <td>Madrid</td>\n",
       "      <td>30</td>\n",
       "      <td>85</td>\n",
       "      <td>B</td>\n",
       "    </tr>\n",
       "    <tr>\n",
       "      <th>3</th>\n",
       "      <td>Laura</td>\n",
       "      <td>Valencia</td>\n",
       "      <td>28</td>\n",
       "      <td>88</td>\n",
       "      <td>A</td>\n",
       "    </tr>\n",
       "    <tr>\n",
       "      <th>4</th>\n",
       "      <td>Pedro</td>\n",
       "      <td>Barcelona</td>\n",
       "      <td>45</td>\n",
       "      <td>75</td>\n",
       "      <td>B</td>\n",
       "    </tr>\n",
       "    <tr>\n",
       "      <th>5</th>\n",
       "      <td>Carla</td>\n",
       "      <td>Madrid</td>\n",
       "      <td>38</td>\n",
       "      <td>91</td>\n",
       "      <td>B</td>\n",
       "    </tr>\n",
       "  </tbody>\n",
       "</table>\n",
       "</div>"
      ],
      "text/plain": [
       "  Nombre     Ciudad  Edad  Puntuacion Categoria\n",
       "0   Juan     Madrid    25          80         A\n",
       "1    Ana  Barcelona    33          90         A\n",
       "2   Luis     Madrid    30          85         B\n",
       "3  Laura   Valencia    28          88         A\n",
       "4  Pedro  Barcelona    45          75         B\n",
       "5  Carla     Madrid    38          91         B"
      ]
     },
     "execution_count": 53,
     "metadata": {},
     "output_type": "execute_result"
    }
   ],
   "source": [
    "data = { 'Nombre' : ['Juan', 'Ana', 'Luis', 'Laura', 'Pedro', 'Carla'],\n",
    "         'Ciudad': ['Madrid', 'Barcelona', 'Madrid', 'Valencia', 'Barcelona', 'Madrid'],\n",
    "         'Edad': [25, 33, 30, 28, 45, 38],\n",
    "         'Puntuacion': [80, 90, 85, 88, 75, 91],\n",
    "         'Categoria' : ['A','A','B','A','B','B']\n",
    "\n",
    "}\n",
    "df = pd.DataFrame(data)\n",
    "df"
   ]
  },
  {
   "cell_type": "code",
   "execution_count": null,
   "id": "c16c4296",
   "metadata": {},
   "outputs": [
    {
     "data": {
      "text/plain": [
       "Ciudad\n",
       "Barcelona    39.0\n",
       "Madrid       31.0\n",
       "Valencia     28.0\n",
       "Name: Edad, dtype: float64"
      ]
     },
     "execution_count": 48,
     "metadata": {},
     "output_type": "execute_result"
    }
   ],
   "source": [
    "#Calcular la media de edad por ciudad\n",
    "grouped = df[\"Edad\"].groupby(df[\"Ciudad\"])\n",
    "#grouped.groups\n",
    "grouped.mean()\n",
    "\n",
    "\n",
    "\n"
   ]
  },
  {
   "cell_type": "markdown",
   "id": "fa1efd18",
   "metadata": {},
   "source": [
    "**Dividir:**  grouped = df[\"Edad\"].groupby(df[\"Ciudad\"]) -> creamos los grupos por \"Ciudad\".<br>\n",
    "**Aplicar:**  grouped.mean() -> Calculamos el promedio dentro de cada grupo.<br>\n",
    "**Combinar:**  obtenemos una Series indexada por los valores únicos de \"Ciudad\", con sus promedios correspondientes.<br>\n",
    "\n",
    "¡Ojito! <br>\n",
    ".groups = Muestra cómo pandas separó los datos (diccionario con índices).<br>\n",
    ".mean(), .sum(), .count() = Muestra los resultados de cálculos sobre cada grupo."
   ]
  },
  {
   "cell_type": "markdown",
   "id": "3e8d485b",
   "metadata": {},
   "source": [
    "\"Un DataFrame se puede agrupar por sus filas ( axis=\"index\") o columnas ( axis=\"columns\"). Una vez hecho esto, se aplica una función a cada grupo, generando un nuevo valor. Finalmente, los resultados de todas esas aplicaciones de función se combinan en un objeto resultante. La forma del objeto resultante suele depender del procesamiento de los datos.\"\n",
    "\n",
    "  ![  ](image.png)"
   ]
  },
  {
   "cell_type": "markdown",
   "id": "a39b7afa",
   "metadata": {},
   "source": [
    "Cositas útiles!!<br>\n",
    "**Seleccionar una columna o un subconjunto de columnas**"
   ]
  },
  {
   "cell_type": "code",
   "execution_count": null,
   "id": "af289b57",
   "metadata": {},
   "outputs": [],
   "source": [
    "#df.groupby([\"Ciudad\"])[[\"Edad\"]].mean()\n",
    "df.groupby([\"Ciudad\", \"Categoria\"])[[\"Edad\"]].mean()"
   ]
  }
 ],
 "metadata": {
  "kernelspec": {
   "display_name": "venv",
   "language": "python",
   "name": "python3"
  },
  "language_info": {
   "codemirror_mode": {
    "name": "ipython",
    "version": 3
   },
   "file_extension": ".py",
   "mimetype": "text/x-python",
   "name": "python",
   "nbconvert_exporter": "python",
   "pygments_lexer": "ipython3",
   "version": "3.13.2"
  }
 },
 "nbformat": 4,
 "nbformat_minor": 5
}
