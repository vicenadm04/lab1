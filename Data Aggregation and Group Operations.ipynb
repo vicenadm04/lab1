{
 "cells": [
  {
   "cell_type": "markdown",
   "id": "ed0aca09",
   "metadata": {},
   "source": [
    "# Data Aggregation and Group Operations\n"
   ]
  },
  {
   "cell_type": "code",
   "execution_count": 1,
   "id": "7119900e",
   "metadata": {},
   "outputs": [],
   "source": [
    "import numpy as np\n",
    "import pandas as pd\n"
   ]
  },
  {
   "cell_type": "markdown",
   "id": "cf26a703",
   "metadata": {},
   "source": [
    "Para entrar en este capitulo no perdamos de vista ésta idea **DIVIDIR - APLICAR - COMBINAR**\n",
    "\n",
    "**Dividir:**  Separar los datos según una o mas claves.<br>\n",
    "**Aplicar:**  Ejecutar una función sobre cada grupo.<br>\n",
    "**Combinar:** Reunir los resultados en un nuevo objeto.<br>\n",
    "\n",
    "Así Pandas ejecuta las operaciones de grupos mediante el método de <span style=\"color:blue\">**.groupby( )**</span>"
   ]
  },
  {
   "cell_type": "code",
   "execution_count": 2,
   "id": "12cf7c0c",
   "metadata": {},
   "outputs": [
    {
     "data": {
      "text/html": [
       "<div>\n",
       "<style scoped>\n",
       "    .dataframe tbody tr th:only-of-type {\n",
       "        vertical-align: middle;\n",
       "    }\n",
       "\n",
       "    .dataframe tbody tr th {\n",
       "        vertical-align: top;\n",
       "    }\n",
       "\n",
       "    .dataframe thead th {\n",
       "        text-align: right;\n",
       "    }\n",
       "</style>\n",
       "<table border=\"1\" class=\"dataframe\">\n",
       "  <thead>\n",
       "    <tr style=\"text-align: right;\">\n",
       "      <th></th>\n",
       "      <th>Nombre</th>\n",
       "      <th>Ciudad</th>\n",
       "      <th>Edad</th>\n",
       "      <th>Puntuacion</th>\n",
       "      <th>Categoria</th>\n",
       "    </tr>\n",
       "  </thead>\n",
       "  <tbody>\n",
       "    <tr>\n",
       "      <th>0</th>\n",
       "      <td>Juan</td>\n",
       "      <td>Madrid</td>\n",
       "      <td>25</td>\n",
       "      <td>80</td>\n",
       "      <td>A</td>\n",
       "    </tr>\n",
       "    <tr>\n",
       "      <th>1</th>\n",
       "      <td>Ana</td>\n",
       "      <td>Barcelona</td>\n",
       "      <td>33</td>\n",
       "      <td>90</td>\n",
       "      <td>A</td>\n",
       "    </tr>\n",
       "    <tr>\n",
       "      <th>2</th>\n",
       "      <td>Luis</td>\n",
       "      <td>Madrid</td>\n",
       "      <td>30</td>\n",
       "      <td>85</td>\n",
       "      <td>B</td>\n",
       "    </tr>\n",
       "    <tr>\n",
       "      <th>3</th>\n",
       "      <td>Laura</td>\n",
       "      <td>Valencia</td>\n",
       "      <td>28</td>\n",
       "      <td>88</td>\n",
       "      <td>A</td>\n",
       "    </tr>\n",
       "    <tr>\n",
       "      <th>4</th>\n",
       "      <td>Pedro</td>\n",
       "      <td>Barcelona</td>\n",
       "      <td>45</td>\n",
       "      <td>75</td>\n",
       "      <td>B</td>\n",
       "    </tr>\n",
       "    <tr>\n",
       "      <th>5</th>\n",
       "      <td>Carla</td>\n",
       "      <td>Madrid</td>\n",
       "      <td>38</td>\n",
       "      <td>91</td>\n",
       "      <td>B</td>\n",
       "    </tr>\n",
       "  </tbody>\n",
       "</table>\n",
       "</div>"
      ],
      "text/plain": [
       "  Nombre     Ciudad  Edad  Puntuacion Categoria\n",
       "0   Juan     Madrid    25          80         A\n",
       "1    Ana  Barcelona    33          90         A\n",
       "2   Luis     Madrid    30          85         B\n",
       "3  Laura   Valencia    28          88         A\n",
       "4  Pedro  Barcelona    45          75         B\n",
       "5  Carla     Madrid    38          91         B"
      ]
     },
     "execution_count": 2,
     "metadata": {},
     "output_type": "execute_result"
    }
   ],
   "source": [
    "data = { 'Nombre' : ['Juan', 'Ana', 'Luis', 'Laura', 'Pedro', 'Carla'],\n",
    "         'Ciudad': ['Madrid', 'Barcelona', 'Madrid', 'Valencia', 'Barcelona', 'Madrid'],\n",
    "         'Edad': [25, 33, 30, 28, 45, 38],\n",
    "         'Puntuacion': [80, 90, 85, 88, 75, 91],\n",
    "         'Categoria' : ['A','A','B','A','B','B']\n",
    "\n",
    "}\n",
    "df = pd.DataFrame(data)\n",
    "df"
   ]
  },
  {
   "cell_type": "code",
   "execution_count": 4,
   "id": "c16c4296",
   "metadata": {},
   "outputs": [
    {
     "data": {
      "text/plain": [
       "Ciudad\n",
       "Barcelona    39.0\n",
       "Madrid       31.0\n",
       "Valencia     28.0\n",
       "Name: Edad, dtype: float64"
      ]
     },
     "execution_count": 4,
     "metadata": {},
     "output_type": "execute_result"
    }
   ],
   "source": [
    "#Calcular la media de edad por ciudad\n",
    "grouped = df[\"Edad\"].groupby(df[\"Ciudad\"])\n",
    "#grouped.groups\n",
    "grouped.mean()\n",
    "\n",
    "\n",
    "\n"
   ]
  },
  {
   "cell_type": "markdown",
   "id": "fa1efd18",
   "metadata": {},
   "source": [
    "**Dividir:**  grouped = df[\"Edad\"].groupby(df[\"Ciudad\"]) -> creamos los grupos por \"Ciudad\".<br>\n",
    "**Aplicar:**  grouped.mean() -> Calculamos el promedio dentro de cada grupo.<br>\n",
    "**Combinar:**  obtenemos una Series indexada por los valores únicos de \"Ciudad\", con sus promedios correspondientes.<br>\n",
    "\n",
    "¡Ojito! <br>\n",
    ".groups = Muestra cómo pandas separó los datos (diccionario con índices).<br>\n",
    ".mean(), .sum(), .count() = Muestra los resultados de cálculos sobre cada grupo."
   ]
  },
  {
   "cell_type": "markdown",
   "id": "3e8d485b",
   "metadata": {},
   "source": [
    "\"Un DataFrame se puede agrupar por sus filas ( axis=\"index\") o columnas ( axis=\"columns\"). Una vez hecho esto, se aplica una función a cada grupo, generando un nuevo valor. Finalmente, los resultados de todas esas aplicaciones de función se combinan en un objeto resultante. La forma del objeto resultante suele depender del procesamiento de los datos.\"\n",
    "\n",
    "  ![  ](image.png)"
   ]
  },
  {
   "cell_type": "markdown",
   "id": "a39b7afa",
   "metadata": {},
   "source": [
    "Cositas útiles!!<br>\n",
    "**Seleccionar una columna o un subconjunto de columnas**"
   ]
  },
  {
   "cell_type": "code",
   "execution_count": null,
   "id": "af289b57",
   "metadata": {},
   "outputs": [],
   "source": [
    "#df.groupby([\"Ciudad\"])[[\"Edad\"]].mean()\n",
    "df.groupby([\"Ciudad\", \"Categoria\"])[[\"Edad\"]].mean()"
   ]
  },
  {
   "cell_type": "markdown",
   "id": "e107f298",
   "metadata": {},
   "source": [
    "**Transform** \n",
    "\n",
    "El resultado que devuelve es del mismo tamaño que la entrada.<br>\n",
    "Cada valor de la columna transformada mantiene la alineacion con las filas originales. <br>\n",
    "Ideal para cuando uno quiere reemplazar valosres o crear nuevas columnas sin perder la forma del DataFrame. <br>\n",
    "\n",
    "Entonces  <span style=\"color:blue\">**.transform()**</span> si uno necesita que cada fila conserve su posición y alineación pero con valores transformados."
   ]
  },
  {
   "cell_type": "code",
   "execution_count": 3,
   "id": "3f8699aa",
   "metadata": {},
   "outputs": [
    {
     "data": {
      "text/html": [
       "<div>\n",
       "<style scoped>\n",
       "    .dataframe tbody tr th:only-of-type {\n",
       "        vertical-align: middle;\n",
       "    }\n",
       "\n",
       "    .dataframe tbody tr th {\n",
       "        vertical-align: top;\n",
       "    }\n",
       "\n",
       "    .dataframe thead th {\n",
       "        text-align: right;\n",
       "    }\n",
       "</style>\n",
       "<table border=\"1\" class=\"dataframe\">\n",
       "  <thead>\n",
       "    <tr style=\"text-align: right;\">\n",
       "      <th></th>\n",
       "      <th>Nombre</th>\n",
       "      <th>Ciudad</th>\n",
       "      <th>Edad</th>\n",
       "      <th>Puntuacion</th>\n",
       "      <th>Categoria</th>\n",
       "      <th>Puntuacion_promedio_categoria</th>\n",
       "    </tr>\n",
       "  </thead>\n",
       "  <tbody>\n",
       "    <tr>\n",
       "      <th>0</th>\n",
       "      <td>Juan</td>\n",
       "      <td>Madrid</td>\n",
       "      <td>25</td>\n",
       "      <td>80</td>\n",
       "      <td>A</td>\n",
       "      <td>80.0</td>\n",
       "    </tr>\n",
       "    <tr>\n",
       "      <th>1</th>\n",
       "      <td>Ana</td>\n",
       "      <td>Barcelona</td>\n",
       "      <td>33</td>\n",
       "      <td>90</td>\n",
       "      <td>A</td>\n",
       "      <td>90.0</td>\n",
       "    </tr>\n",
       "    <tr>\n",
       "      <th>2</th>\n",
       "      <td>Luis</td>\n",
       "      <td>Madrid</td>\n",
       "      <td>30</td>\n",
       "      <td>85</td>\n",
       "      <td>B</td>\n",
       "      <td>88.0</td>\n",
       "    </tr>\n",
       "    <tr>\n",
       "      <th>3</th>\n",
       "      <td>Laura</td>\n",
       "      <td>Valencia</td>\n",
       "      <td>28</td>\n",
       "      <td>88</td>\n",
       "      <td>A</td>\n",
       "      <td>88.0</td>\n",
       "    </tr>\n",
       "    <tr>\n",
       "      <th>4</th>\n",
       "      <td>Pedro</td>\n",
       "      <td>Barcelona</td>\n",
       "      <td>45</td>\n",
       "      <td>75</td>\n",
       "      <td>B</td>\n",
       "      <td>75.0</td>\n",
       "    </tr>\n",
       "    <tr>\n",
       "      <th>5</th>\n",
       "      <td>Carla</td>\n",
       "      <td>Madrid</td>\n",
       "      <td>38</td>\n",
       "      <td>91</td>\n",
       "      <td>B</td>\n",
       "      <td>88.0</td>\n",
       "    </tr>\n",
       "  </tbody>\n",
       "</table>\n",
       "</div>"
      ],
      "text/plain": [
       "  Nombre     Ciudad  Edad  Puntuacion Categoria  Puntuacion_promedio_categoria\n",
       "0   Juan     Madrid    25          80         A                           80.0\n",
       "1    Ana  Barcelona    33          90         A                           90.0\n",
       "2   Luis     Madrid    30          85         B                           88.0\n",
       "3  Laura   Valencia    28          88         A                           88.0\n",
       "4  Pedro  Barcelona    45          75         B                           75.0\n",
       "5  Carla     Madrid    38          91         B                           88.0"
      ]
     },
     "execution_count": 3,
     "metadata": {},
     "output_type": "execute_result"
    }
   ],
   "source": [
    "#df.groupby(['Categoria', 'Ciudad'])['Puntuacion'].mean() # sin usar .transform()\n",
    "df['Puntuacion_promedio_categoria'] = df.groupby(['Categoria', 'Ciudad'])['Puntuacion'].transform('mean')\n",
    "df"
   ]
  },
  {
   "cell_type": "markdown",
   "id": "2ab03564",
   "metadata": {},
   "source": [
    "**Tablas dinámicas**\n",
    "\n",
    "Os queremos felicitar queridos internautas han llegado casi al final del mini curso, ahora por último hablaremos de tablas dinámicas. <br> \n",
    "\n",
    "La tabla dinámica organiza la información en forma de tabla, permitiendo:<br>\n",
    "a) Agrupar por filas y columnas. <br>\n",
    "b) Aplicar funciones estadísticas (media, suma, conteo, etc.). <br>\n",
    "c) Comparar categorías fácilmente.\n",
    "\n",
    "En Pandas se implementa con <span style=\"color:blue\">**.pivot_table()**</span>, lo que hace es tomar los datos del DataFrame original y los reorganiza en una tabla completamente nueva, donde los valores están resumidos según las reglas de agrupación y la función de agregación especificadas\n"
   ]
  },
  {
   "cell_type": "code",
   "execution_count": 5,
   "id": "3cda2681",
   "metadata": {},
   "outputs": [
    {
     "data": {
      "text/html": [
       "<div>\n",
       "<style scoped>\n",
       "    .dataframe tbody tr th:only-of-type {\n",
       "        vertical-align: middle;\n",
       "    }\n",
       "\n",
       "    .dataframe tbody tr th {\n",
       "        vertical-align: top;\n",
       "    }\n",
       "\n",
       "    .dataframe thead th {\n",
       "        text-align: right;\n",
       "    }\n",
       "</style>\n",
       "<table border=\"1\" class=\"dataframe\">\n",
       "  <thead>\n",
       "    <tr style=\"text-align: right;\">\n",
       "      <th>Categoria</th>\n",
       "      <th>A</th>\n",
       "      <th>B</th>\n",
       "    </tr>\n",
       "    <tr>\n",
       "      <th>Ciudad</th>\n",
       "      <th></th>\n",
       "      <th></th>\n",
       "    </tr>\n",
       "  </thead>\n",
       "  <tbody>\n",
       "    <tr>\n",
       "      <th>Barcelona</th>\n",
       "      <td>90.0</td>\n",
       "      <td>75.0</td>\n",
       "    </tr>\n",
       "    <tr>\n",
       "      <th>Madrid</th>\n",
       "      <td>80.0</td>\n",
       "      <td>88.0</td>\n",
       "    </tr>\n",
       "    <tr>\n",
       "      <th>Valencia</th>\n",
       "      <td>88.0</td>\n",
       "      <td>NaN</td>\n",
       "    </tr>\n",
       "  </tbody>\n",
       "</table>\n",
       "</div>"
      ],
      "text/plain": [
       "Categoria     A     B\n",
       "Ciudad               \n",
       "Barcelona  90.0  75.0\n",
       "Madrid     80.0  88.0\n",
       "Valencia   88.0   NaN"
      ]
     },
     "execution_count": 5,
     "metadata": {},
     "output_type": "execute_result"
    }
   ],
   "source": [
    "#Promedio de las puntuaciones agrupadas por ciudad y por categoría\n",
    "tabla_dinamica = df.pivot_table(\n",
    "    index='Ciudad',\n",
    "    columns='Categoria',\n",
    "    values='Puntuacion',\n",
    "    aggfunc='mean'\n",
    ")\n",
    "tabla_dinamica"
   ]
  },
  {
   "cell_type": "markdown",
   "id": "5e28b9f5",
   "metadata": {},
   "source": [
    "**¿Tenés la duda existencial de cuando ocupar groupby o pivot_table?** No te preocupes te explicamos a continuación. <br>\n",
    "\n",
    "<span style=\"color:blue\">**.groupby()**</span><br>\n",
    "\n",
    "Sirve para agrupar datos y luego calcular estadísticas (promedio, suma, conteo, etc.), si querés hacer varios pasos como agrupar, calcular, volver a ordenar, renombrar columnas, etc. es recomendable este metodo, pero ¡ojo! el resultado no siempre es tan “presentable”, porque te devuelve índices múltiples o estructuras menos legibles. <br>\n",
    "\n",
    "<span style=\"color:blue\">**.pivot_table()**</span><br>\n",
    "\n",
    "Sirve para resumir y mostrar datos de una manera clara, como en Excel,directamente te devuelve una tabla lista para análisis o presentación, no está pensado tanto para seguir encadenando cálculos, sino para visualizar bien los resultados."
   ]
  }
 ],
 "metadata": {
  "kernelspec": {
   "display_name": "venv",
   "language": "python",
   "name": "python3"
  },
  "language_info": {
   "codemirror_mode": {
    "name": "ipython",
    "version": 3
   },
   "file_extension": ".py",
   "mimetype": "text/x-python",
   "name": "python",
   "nbconvert_exporter": "python",
   "pygments_lexer": "ipython3",
   "version": "3.13.2"
  }
 },
 "nbformat": 4,
 "nbformat_minor": 5
}
