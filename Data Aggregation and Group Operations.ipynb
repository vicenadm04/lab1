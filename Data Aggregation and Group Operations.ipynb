{
 "cells": [
  {
   "cell_type": "markdown",
   "id": "ed0aca09",
   "metadata": {},
   "source": [
    "# Data Aggregation and Group Operations\n"
   ]
  },
  {
   "cell_type": "code",
   "execution_count": 2,
   "id": "7119900e",
   "metadata": {},
   "outputs": [],
   "source": [
    "import numpy as np\n",
    "import pandas as pd\n"
   ]
  },
  {
   "cell_type": "markdown",
   "id": "cf26a703",
   "metadata": {},
   "source": [
    "Para entrar en este capitulo no perdamos de vista ésta idea **DIVIDIR - APLICAR - COMBINAR**\n",
    "\n",
    "**Dividir:**  Separar los datos según una o mas claves.<br>\n",
    "**Aplicar:**  Ejecutar una función sobre cada grupo.<br>\n",
    "**Combinar:** Reunir los resultados en un nuevo objeto.<br>\n",
    "\n",
    "Así Pandas ejecuta las operaciones de grupos mediante el método de <span style=\"color:blue\">**.groupby( )**</span>"
   ]
  },
  {
   "cell_type": "code",
   "execution_count": 2,
   "id": "12cf7c0c",
   "metadata": {},
   "outputs": [
    {
     "data": {
      "text/html": [
       "<div>\n",
       "<style scoped>\n",
       "    .dataframe tbody tr th:only-of-type {\n",
       "        vertical-align: middle;\n",
       "    }\n",
       "\n",
       "    .dataframe tbody tr th {\n",
       "        vertical-align: top;\n",
       "    }\n",
       "\n",
       "    .dataframe thead th {\n",
       "        text-align: right;\n",
       "    }\n",
       "</style>\n",
       "<table border=\"1\" class=\"dataframe\">\n",
       "  <thead>\n",
       "    <tr style=\"text-align: right;\">\n",
       "      <th></th>\n",
       "      <th>Nombre</th>\n",
       "      <th>Ciudad</th>\n",
       "      <th>Edad</th>\n",
       "      <th>Puntuacion</th>\n",
       "      <th>Categoria</th>\n",
       "    </tr>\n",
       "  </thead>\n",
       "  <tbody>\n",
       "    <tr>\n",
       "      <th>0</th>\n",
       "      <td>Juan</td>\n",
       "      <td>Madrid</td>\n",
       "      <td>25</td>\n",
       "      <td>80</td>\n",
       "      <td>A</td>\n",
       "    </tr>\n",
       "    <tr>\n",
       "      <th>1</th>\n",
       "      <td>Ana</td>\n",
       "      <td>Barcelona</td>\n",
       "      <td>33</td>\n",
       "      <td>90</td>\n",
       "      <td>A</td>\n",
       "    </tr>\n",
       "    <tr>\n",
       "      <th>2</th>\n",
       "      <td>Luis</td>\n",
       "      <td>Madrid</td>\n",
       "      <td>30</td>\n",
       "      <td>85</td>\n",
       "      <td>B</td>\n",
       "    </tr>\n",
       "    <tr>\n",
       "      <th>3</th>\n",
       "      <td>Laura</td>\n",
       "      <td>Valencia</td>\n",
       "      <td>28</td>\n",
       "      <td>88</td>\n",
       "      <td>A</td>\n",
       "    </tr>\n",
       "    <tr>\n",
       "      <th>4</th>\n",
       "      <td>Pedro</td>\n",
       "      <td>Barcelona</td>\n",
       "      <td>45</td>\n",
       "      <td>75</td>\n",
       "      <td>B</td>\n",
       "    </tr>\n",
       "    <tr>\n",
       "      <th>5</th>\n",
       "      <td>Carla</td>\n",
       "      <td>Madrid</td>\n",
       "      <td>38</td>\n",
       "      <td>91</td>\n",
       "      <td>B</td>\n",
       "    </tr>\n",
       "  </tbody>\n",
       "</table>\n",
       "</div>"
      ],
      "text/plain": [
       "  Nombre     Ciudad  Edad  Puntuacion Categoria\n",
       "0   Juan     Madrid    25          80         A\n",
       "1    Ana  Barcelona    33          90         A\n",
       "2   Luis     Madrid    30          85         B\n",
       "3  Laura   Valencia    28          88         A\n",
       "4  Pedro  Barcelona    45          75         B\n",
       "5  Carla     Madrid    38          91         B"
      ]
     },
     "execution_count": 2,
     "metadata": {},
     "output_type": "execute_result"
    }
   ],
   "source": [
    "data = { 'Nombre' : ['Juan', 'Ana', 'Luis', 'Laura', 'Pedro', 'Carla'],\n",
    "         'Ciudad': ['Madrid', 'Barcelona', 'Madrid', 'Valencia', 'Barcelona', 'Madrid'],\n",
    "         'Edad': [25, 33, 30, 28, 45, 38],\n",
    "         'Puntuacion': [80, 90, 85, 88, 75, 91],\n",
    "         'Categoria' : ['A','A','B','A','B','B']\n",
    "\n",
    "}\n",
    "df = pd.DataFrame(data)\n",
    "df"
   ]
  },
  {
   "cell_type": "code",
   "execution_count": 4,
   "id": "c16c4296",
   "metadata": {},
   "outputs": [
    {
     "data": {
      "text/plain": [
       "Ciudad\n",
       "Barcelona    39.0\n",
       "Madrid       31.0\n",
       "Valencia     28.0\n",
       "Name: Edad, dtype: float64"
      ]
     },
     "execution_count": 4,
     "metadata": {},
     "output_type": "execute_result"
    }
   ],
   "source": [
    "#Calcular la media de edad por ciudad\n",
    "grouped = df[\"Edad\"].groupby(df[\"Ciudad\"])\n",
    "#grouped.groups\n",
    "grouped.mean()\n",
    "\n",
    "\n",
    "\n"
   ]
  },
  {
   "cell_type": "markdown",
   "id": "fa1efd18",
   "metadata": {},
   "source": [
    "**Dividir:**  grouped = df[\"Edad\"].groupby(df[\"Ciudad\"]) -> creamos los grupos por \"Ciudad\".<br>\n",
    "**Aplicar:**  grouped.mean() -> Calculamos el promedio dentro de cada grupo.<br>\n",
    "**Combinar:**  obtenemos una Series indexada por los valores únicos de \"Ciudad\", con sus promedios correspondientes.<br>\n",
    "\n",
    "¡Ojito! <br>\n",
    ".groups = Muestra cómo pandas separó los datos (diccionario con índices).<br>\n",
    ".mean(), .sum(), .count() = Muestra los resultados de cálculos sobre cada grupo."
   ]
  },
  {
   "cell_type": "markdown",
   "id": "3e8d485b",
   "metadata": {},
   "source": [
    "\"Un DataFrame se puede agrupar por sus filas ( axis=\"index\") o columnas ( axis=\"columns\"). Una vez hecho esto, se aplica una función a cada grupo, generando un nuevo valor. Finalmente, los resultados de todas esas aplicaciones de función se combinan en un objeto resultante. La forma del objeto resultante suele depender del procesamiento de los datos.\"\n",
    "\n",
    "  ![  ](image.png)"
   ]
  },
  {
   "cell_type": "markdown",
   "id": "a39b7afa",
   "metadata": {},
   "source": [
    "Cositas útiles!!<br>\n",
    "**Seleccionar una columna o un subconjunto de columnas**"
   ]
  },
  {
   "cell_type": "code",
   "execution_count": null,
   "id": "af289b57",
   "metadata": {},
   "outputs": [],
   "source": [
    "#df.groupby([\"Ciudad\"])[[\"Edad\"]].mean()\n",
    "df.groupby([\"Ciudad\", \"Categoria\"])[[\"Edad\"]].mean()"
   ]
  },
  {
   "cell_type": "markdown",
   "id": "1b652ead",
   "metadata": {},
   "source": [
    "## Funciones de agregación"
   ]
  },
  {
   "cell_type": "markdown",
   "id": "565dd8c2",
   "metadata": {},
   "source": [
    "Las funciones de agregación procesan un arreglo de valores, y devuelven un escalar. En pandas, las funciones de agregación trabajan sobre Series. <br>\n",
    "Ejemplos: sum, mean, count, min, max, any, all, agg, y muchas otras más."
   ]
  },
  {
   "cell_type": "code",
   "execution_count": 3,
   "id": "c07e03c4",
   "metadata": {},
   "outputs": [
    {
     "name": "stdout",
     "output_type": "stream",
     "text": [
      "      titulo     genero   año  recaudacion  rating\n",
      "0     Matrix     Sci-Fi  1999          465     8.7\n",
      "1    Titanic    Romance  1997         2187     7.9\n",
      "2  Inception     Sci-Fi  2010          836     8.8\n",
      "3     Avatar     Sci-Fi  2009         2920     7.8\n",
      "4  Gladiator     Acción  2000          457     8.5\n",
      "5      Shrek  Animación  2001          484     7.9\n"
     ]
    }
   ],
   "source": [
    "peliculas = pd.DataFrame({\n",
    "    \"titulo\": [\"Matrix\", \"Titanic\", \"Inception\", \"Avatar\", \"Gladiator\", \"Shrek\"],\n",
    "    \"genero\": [\"Sci-Fi\", \"Romance\", \"Sci-Fi\", \"Sci-Fi\", \"Acción\", \"Animación\"],\n",
    "    \"año\": [1999, 1997, 2010, 2009, 2000, 2001],\n",
    "    \"recaudacion\": [465, 2187, 836, 2920, 457, 484],\n",
    "    \"rating\": [8.7, 7.9, 8.8, 7.8, 8.5, 7.9]\n",
    "})\n",
    "\n",
    "print(peliculas)"
   ]
  },
  {
   "cell_type": "markdown",
   "id": "faef1061",
   "metadata": {},
   "source": [
    "### Ejemplos de funciones de agregación con groupby\n",
    "\n",
    "A continuación veremos dos ejemplos de cómo usar funciones de agregación (`mean` y `max`) combinadas con `groupby` sobre el dataset de películas:"
   ]
  },
  {
   "cell_type": "code",
   "execution_count": 4,
   "id": "778b746c",
   "metadata": {},
   "outputs": [
    {
     "name": "stdout",
     "output_type": "stream",
     "text": [
      "Recaudación por género:\n",
      "genero\n",
      "Acción        457.0\n",
      "Animación     484.0\n",
      "Romance      2187.0\n",
      "Sci-Fi       1407.0\n",
      "Name: recaudacion, dtype: float64\n"
     ]
    }
   ],
   "source": [
    "#Calculemos el promedio de recaudación y rating agrupando por género.\n",
    "#Primero creamos la agrupación para trabajar.\n",
    "grouped = peliculas.groupby('genero')\n",
    "\n",
    "print(\"Recaudación por género:\")\n",
    "recaudaciones = grouped['recaudacion'].mean()\n",
    "print(recaudaciones)"
   ]
  },
  {
   "cell_type": "code",
   "execution_count": 5,
   "id": "ada6cc1e",
   "metadata": {},
   "outputs": [
    {
     "name": "stdout",
     "output_type": "stream",
     "text": [
      "Rating promedio por género:\n",
      "genero\n",
      "Acción       8.500000\n",
      "Animación    7.900000\n",
      "Romance      7.900000\n",
      "Sci-Fi       8.433333\n",
      "Name: rating, dtype: float64\n"
     ]
    }
   ],
   "source": [
    "print(\"Rating promedio por género:\")\n",
    "ratings = grouped['rating'].mean()\n",
    "print(ratings)"
   ]
  },
  {
   "cell_type": "code",
   "execution_count": 6,
   "id": "bc545e6d",
   "metadata": {},
   "outputs": [
    {
     "name": "stdout",
     "output_type": "stream",
     "text": [
      "Promedios de múltiples columnas:\n",
      "           recaudacion    rating\n",
      "genero                          \n",
      "Acción           457.0  8.500000\n",
      "Animación        484.0  7.900000\n",
      "Romance         2187.0  7.900000\n",
      "Sci-Fi          1407.0  8.433333\n"
     ]
    }
   ],
   "source": [
    "print(\"Promedios de múltiples columnas:\")\n",
    "promedios_multiples = peliculas.groupby('genero')[['recaudacion', 'rating']].mean()\n",
    "print(promedios_multiples)"
   ]
  },
  {
   "cell_type": "markdown",
   "id": "56f19a78",
   "metadata": {},
   "source": [
    "#### Máximo (max) por género\n",
    "\n",
    "Encontremos los valores máximos de recaudación y rating agrupando por género:"
   ]
  },
  {
   "cell_type": "code",
   "execution_count": 7,
   "id": "133e7843",
   "metadata": {},
   "outputs": [
    {
     "name": "stdout",
     "output_type": "stream",
     "text": [
      "genero\n",
      "Acción        457\n",
      "Animación     484\n",
      "Romance      2187\n",
      "Sci-Fi       2920\n",
      "Name: recaudacion, dtype: int64\n"
     ]
    }
   ],
   "source": [
    "max_recaudacion = grouped['recaudacion'].max()\n",
    "print(max_recaudacion)"
   ]
  },
  {
   "cell_type": "code",
   "execution_count": 8,
   "id": "9ab68720",
   "metadata": {},
   "outputs": [
    {
     "name": "stdout",
     "output_type": "stream",
     "text": [
      "genero\n",
      "Acción       8.5\n",
      "Animación    7.9\n",
      "Romance      7.9\n",
      "Sci-Fi       8.8\n",
      "Name: rating, dtype: float64\n"
     ]
    }
   ],
   "source": [
    "#Película con mayor rating\n",
    "rating_maximo = grouped['rating'].max()\n",
    "print(rating_maximo)"
   ]
  },
  {
   "cell_type": "markdown",
   "id": "4904dd7f",
   "metadata": {},
   "source": [
    "#### Uso de `agg`"
   ]
  },
  {
   "cell_type": "code",
   "execution_count": 9,
   "id": "ea264d9d",
   "metadata": {},
   "outputs": [
    {
     "data": {
      "text/html": [
       "<div>\n",
       "<style scoped>\n",
       "    .dataframe tbody tr th:only-of-type {\n",
       "        vertical-align: middle;\n",
       "    }\n",
       "\n",
       "    .dataframe tbody tr th {\n",
       "        vertical-align: top;\n",
       "    }\n",
       "\n",
       "    .dataframe thead th {\n",
       "        text-align: right;\n",
       "    }\n",
       "</style>\n",
       "<table border=\"1\" class=\"dataframe\">\n",
       "  <thead>\n",
       "    <tr style=\"text-align: right;\">\n",
       "      <th></th>\n",
       "      <th>nombre</th>\n",
       "      <th>pais</th>\n",
       "      <th>altura</th>\n",
       "      <th>pisos</th>\n",
       "      <th>year</th>\n",
       "    </tr>\n",
       "  </thead>\n",
       "  <tbody>\n",
       "    <tr>\n",
       "      <th>0</th>\n",
       "      <td>Burj Khalifa</td>\n",
       "      <td>Emiratos Árabes</td>\n",
       "      <td>828</td>\n",
       "      <td>163</td>\n",
       "      <td>2010</td>\n",
       "    </tr>\n",
       "    <tr>\n",
       "      <th>1</th>\n",
       "      <td>Shanghai Tower</td>\n",
       "      <td>China</td>\n",
       "      <td>632</td>\n",
       "      <td>128</td>\n",
       "      <td>2015</td>\n",
       "    </tr>\n",
       "    <tr>\n",
       "      <th>2</th>\n",
       "      <td>Abraj Al-Bait Clock Tower</td>\n",
       "      <td>Arabia Saudita</td>\n",
       "      <td>601</td>\n",
       "      <td>120</td>\n",
       "      <td>2012</td>\n",
       "    </tr>\n",
       "    <tr>\n",
       "      <th>3</th>\n",
       "      <td>Ping An Finance Center</td>\n",
       "      <td>China</td>\n",
       "      <td>599</td>\n",
       "      <td>115</td>\n",
       "      <td>2017</td>\n",
       "    </tr>\n",
       "    <tr>\n",
       "      <th>4</th>\n",
       "      <td>Lotte World Tower</td>\n",
       "      <td>Corea del Sur</td>\n",
       "      <td>555</td>\n",
       "      <td>123</td>\n",
       "      <td>2016</td>\n",
       "    </tr>\n",
       "    <tr>\n",
       "      <th>5</th>\n",
       "      <td>One World Trade Center</td>\n",
       "      <td>EE.UU.</td>\n",
       "      <td>541</td>\n",
       "      <td>104</td>\n",
       "      <td>2014</td>\n",
       "    </tr>\n",
       "    <tr>\n",
       "      <th>6</th>\n",
       "      <td>Taipei 101</td>\n",
       "      <td>Taiwán</td>\n",
       "      <td>509</td>\n",
       "      <td>101</td>\n",
       "      <td>2004</td>\n",
       "    </tr>\n",
       "    <tr>\n",
       "      <th>7</th>\n",
       "      <td>Petronas Towers</td>\n",
       "      <td>Malasia</td>\n",
       "      <td>452</td>\n",
       "      <td>88</td>\n",
       "      <td>1998</td>\n",
       "    </tr>\n",
       "  </tbody>\n",
       "</table>\n",
       "</div>"
      ],
      "text/plain": [
       "                      nombre             pais  altura  pisos  year\n",
       "0               Burj Khalifa  Emiratos Árabes     828    163  2010\n",
       "1             Shanghai Tower            China     632    128  2015\n",
       "2  Abraj Al-Bait Clock Tower   Arabia Saudita     601    120  2012\n",
       "3     Ping An Finance Center            China     599    115  2017\n",
       "4          Lotte World Tower    Corea del Sur     555    123  2016\n",
       "5     One World Trade Center           EE.UU.     541    104  2014\n",
       "6                 Taipei 101           Taiwán     509    101  2004\n",
       "7            Petronas Towers          Malasia     452     88  1998"
      ]
     },
     "execution_count": 9,
     "metadata": {},
     "output_type": "execute_result"
    }
   ],
   "source": [
    "\n",
    "rascacielos = pd.DataFrame({\n",
    "    \"nombre\": [\n",
    "        \"Burj Khalifa\", \"Shanghai Tower\", \"Abraj Al-Bait Clock Tower\",\n",
    "        \"Ping An Finance Center\", \"Lotte World Tower\",\n",
    "        \"One World Trade Center\", \"Taipei 101\", \"Petronas Towers\"\n",
    "    ],\n",
    "    \"pais\": [\n",
    "        \"Emiratos Árabes\", \"China\", \"Arabia Saudita\",\n",
    "        \"China\", \"Corea del Sur\",\n",
    "        \"EE.UU.\", \"Taiwán\", \"Malasia\"\n",
    "    ],\n",
    "    \"altura\": [828, 632, 601, 599, 555, 541, 509, 452],\n",
    "    \"pisos\": [163, 128, 120, 115, 123, 104, 101, 88],\n",
    "    \"year\": [2010, 2015, 2012, 2017, 2016, 2014, 2004, 1998]\n",
    "})\n",
    "\n",
    "rascacielos"
   ]
  },
  {
   "cell_type": "markdown",
   "id": "75820768",
   "metadata": {},
   "source": [
    "Usando `agg` con varias funciones de agregación implementadas."
   ]
  },
  {
   "cell_type": "code",
   "execution_count": 10,
   "id": "b2c9cc7f",
   "metadata": {},
   "outputs": [
    {
     "data": {
      "text/html": [
       "<div>\n",
       "<style scoped>\n",
       "    .dataframe tbody tr th:only-of-type {\n",
       "        vertical-align: middle;\n",
       "    }\n",
       "\n",
       "    .dataframe tbody tr th {\n",
       "        vertical-align: top;\n",
       "    }\n",
       "\n",
       "    .dataframe thead th {\n",
       "        text-align: right;\n",
       "    }\n",
       "</style>\n",
       "<table border=\"1\" class=\"dataframe\">\n",
       "  <thead>\n",
       "    <tr style=\"text-align: right;\">\n",
       "      <th></th>\n",
       "      <th>pais</th>\n",
       "      <th>max_altura</th>\n",
       "      <th>promedio_altura</th>\n",
       "      <th>total_rascacielos</th>\n",
       "      <th>max_pisos</th>\n",
       "    </tr>\n",
       "  </thead>\n",
       "  <tbody>\n",
       "    <tr>\n",
       "      <th>0</th>\n",
       "      <td>Arabia Saudita</td>\n",
       "      <td>601</td>\n",
       "      <td>601.0</td>\n",
       "      <td>1</td>\n",
       "      <td>120</td>\n",
       "    </tr>\n",
       "    <tr>\n",
       "      <th>1</th>\n",
       "      <td>China</td>\n",
       "      <td>632</td>\n",
       "      <td>615.5</td>\n",
       "      <td>2</td>\n",
       "      <td>128</td>\n",
       "    </tr>\n",
       "    <tr>\n",
       "      <th>2</th>\n",
       "      <td>Corea del Sur</td>\n",
       "      <td>555</td>\n",
       "      <td>555.0</td>\n",
       "      <td>1</td>\n",
       "      <td>123</td>\n",
       "    </tr>\n",
       "    <tr>\n",
       "      <th>3</th>\n",
       "      <td>EE.UU.</td>\n",
       "      <td>541</td>\n",
       "      <td>541.0</td>\n",
       "      <td>1</td>\n",
       "      <td>104</td>\n",
       "    </tr>\n",
       "    <tr>\n",
       "      <th>4</th>\n",
       "      <td>Emiratos Árabes</td>\n",
       "      <td>828</td>\n",
       "      <td>828.0</td>\n",
       "      <td>1</td>\n",
       "      <td>163</td>\n",
       "    </tr>\n",
       "    <tr>\n",
       "      <th>5</th>\n",
       "      <td>Malasia</td>\n",
       "      <td>452</td>\n",
       "      <td>452.0</td>\n",
       "      <td>1</td>\n",
       "      <td>88</td>\n",
       "    </tr>\n",
       "    <tr>\n",
       "      <th>6</th>\n",
       "      <td>Taiwán</td>\n",
       "      <td>509</td>\n",
       "      <td>509.0</td>\n",
       "      <td>1</td>\n",
       "      <td>101</td>\n",
       "    </tr>\n",
       "  </tbody>\n",
       "</table>\n",
       "</div>"
      ],
      "text/plain": [
       "              pais  max_altura  promedio_altura  total_rascacielos  max_pisos\n",
       "0   Arabia Saudita         601            601.0                  1        120\n",
       "1            China         632            615.5                  2        128\n",
       "2    Corea del Sur         555            555.0                  1        123\n",
       "3           EE.UU.         541            541.0                  1        104\n",
       "4  Emiratos Árabes         828            828.0                  1        163\n",
       "5          Malasia         452            452.0                  1         88\n",
       "6           Taiwán         509            509.0                  1        101"
      ]
     },
     "execution_count": 10,
     "metadata": {},
     "output_type": "execute_result"
    }
   ],
   "source": [
    "rascacielos.groupby(\"pais\").agg(\n",
    "    max_altura=(\"altura\", \"max\"),\n",
    "    promedio_altura=(\"altura\", \"mean\"),\n",
    "    total_rascacielos=(\"nombre\", \"count\"),\n",
    "    max_pisos=(\"pisos\", \"max\")\n",
    ").reset_index()"
   ]
  },
  {
   "cell_type": "markdown",
   "id": "d2b1a0c7",
   "metadata": {},
   "source": [
    "Usando `agg` con funciones de agregación personalizadas"
   ]
  },
  {
   "cell_type": "code",
   "execution_count": 11,
   "id": "cc7cc89b",
   "metadata": {},
   "outputs": [
    {
     "data": {
      "text/html": [
       "<div>\n",
       "<style scoped>\n",
       "    .dataframe tbody tr th:only-of-type {\n",
       "        vertical-align: middle;\n",
       "    }\n",
       "\n",
       "    .dataframe tbody tr th {\n",
       "        vertical-align: top;\n",
       "    }\n",
       "\n",
       "    .dataframe thead th {\n",
       "        text-align: right;\n",
       "    }\n",
       "</style>\n",
       "<table border=\"1\" class=\"dataframe\">\n",
       "  <thead>\n",
       "    <tr style=\"text-align: right;\">\n",
       "      <th></th>\n",
       "      <th>pais</th>\n",
       "      <th>rango_tiempo</th>\n",
       "    </tr>\n",
       "  </thead>\n",
       "  <tbody>\n",
       "    <tr>\n",
       "      <th>0</th>\n",
       "      <td>Arabia Saudita</td>\n",
       "      <td>2012 - 2012</td>\n",
       "    </tr>\n",
       "    <tr>\n",
       "      <th>1</th>\n",
       "      <td>China</td>\n",
       "      <td>2015 - 2017</td>\n",
       "    </tr>\n",
       "    <tr>\n",
       "      <th>2</th>\n",
       "      <td>Corea del Sur</td>\n",
       "      <td>2016 - 2016</td>\n",
       "    </tr>\n",
       "    <tr>\n",
       "      <th>3</th>\n",
       "      <td>EE.UU.</td>\n",
       "      <td>2014 - 2014</td>\n",
       "    </tr>\n",
       "    <tr>\n",
       "      <th>4</th>\n",
       "      <td>Emiratos Árabes</td>\n",
       "      <td>2010 - 2010</td>\n",
       "    </tr>\n",
       "    <tr>\n",
       "      <th>5</th>\n",
       "      <td>Malasia</td>\n",
       "      <td>1998 - 1998</td>\n",
       "    </tr>\n",
       "    <tr>\n",
       "      <th>6</th>\n",
       "      <td>Taiwán</td>\n",
       "      <td>2004 - 2004</td>\n",
       "    </tr>\n",
       "  </tbody>\n",
       "</table>\n",
       "</div>"
      ],
      "text/plain": [
       "              pais rango_tiempo\n",
       "0   Arabia Saudita  2012 - 2012\n",
       "1            China  2015 - 2017\n",
       "2    Corea del Sur  2016 - 2016\n",
       "3           EE.UU.  2014 - 2014\n",
       "4  Emiratos Árabes  2010 - 2010\n",
       "5          Malasia  1998 - 1998\n",
       "6           Taiwán  2004 - 2004"
      ]
     },
     "execution_count": 11,
     "metadata": {},
     "output_type": "execute_result"
    }
   ],
   "source": [
    "rascacielos.groupby(\"pais\").agg(\n",
    "    rango_tiempo=(\"year\", lambda x: f\"{x.min()} - {x.max()}\")\n",
    ").reset_index()"
   ]
  },
  {
   "cell_type": "markdown",
   "id": "1b59813e",
   "metadata": {},
   "source": [
    "### El método `apply`: un split-apply-combine general"
   ]
  },
  {
   "cell_type": "code",
   "execution_count": 12,
   "id": "b78c7b9d",
   "metadata": {},
   "outputs": [
    {
     "data": {
      "text/html": [
       "<div>\n",
       "<style scoped>\n",
       "    .dataframe tbody tr th:only-of-type {\n",
       "        vertical-align: middle;\n",
       "    }\n",
       "\n",
       "    .dataframe tbody tr th {\n",
       "        vertical-align: top;\n",
       "    }\n",
       "\n",
       "    .dataframe thead th {\n",
       "        text-align: right;\n",
       "    }\n",
       "</style>\n",
       "<table border=\"1\" class=\"dataframe\">\n",
       "  <thead>\n",
       "    <tr style=\"text-align: right;\">\n",
       "      <th></th>\n",
       "      <th>producto</th>\n",
       "      <th>categoria</th>\n",
       "      <th>precio</th>\n",
       "      <th>cantidad</th>\n",
       "      <th>origen</th>\n",
       "    </tr>\n",
       "  </thead>\n",
       "  <tbody>\n",
       "    <tr>\n",
       "      <th>0</th>\n",
       "      <td>Notebook Lenovo</td>\n",
       "      <td>Computadoras</td>\n",
       "      <td>850</td>\n",
       "      <td>2</td>\n",
       "      <td>Importado</td>\n",
       "    </tr>\n",
       "    <tr>\n",
       "      <th>1</th>\n",
       "      <td>Mouse Logitech</td>\n",
       "      <td>Periféricos</td>\n",
       "      <td>25</td>\n",
       "      <td>10</td>\n",
       "      <td>Importado</td>\n",
       "    </tr>\n",
       "    <tr>\n",
       "      <th>2</th>\n",
       "      <td>Monitor Samsung</td>\n",
       "      <td>Monitores</td>\n",
       "      <td>220</td>\n",
       "      <td>4</td>\n",
       "      <td>Nacional</td>\n",
       "    </tr>\n",
       "    <tr>\n",
       "      <th>3</th>\n",
       "      <td>Celular iPhone</td>\n",
       "      <td>Celulares</td>\n",
       "      <td>1200</td>\n",
       "      <td>3</td>\n",
       "      <td>Importado</td>\n",
       "    </tr>\n",
       "    <tr>\n",
       "      <th>4</th>\n",
       "      <td>Placa de Video RTX 4070</td>\n",
       "      <td>Componentes</td>\n",
       "      <td>650</td>\n",
       "      <td>1</td>\n",
       "      <td>Importado</td>\n",
       "    </tr>\n",
       "    <tr>\n",
       "      <th>5</th>\n",
       "      <td>Teclado Mecánico</td>\n",
       "      <td>Periféricos</td>\n",
       "      <td>80</td>\n",
       "      <td>6</td>\n",
       "      <td>Nacional</td>\n",
       "    </tr>\n",
       "  </tbody>\n",
       "</table>\n",
       "</div>"
      ],
      "text/plain": [
       "                  producto     categoria  precio  cantidad     origen\n",
       "0          Notebook Lenovo  Computadoras     850         2  Importado\n",
       "1           Mouse Logitech   Periféricos      25        10  Importado\n",
       "2          Monitor Samsung     Monitores     220         4   Nacional\n",
       "3           Celular iPhone     Celulares    1200         3  Importado\n",
       "4  Placa de Video RTX 4070   Componentes     650         1  Importado\n",
       "5         Teclado Mecánico   Periféricos      80         6   Nacional"
      ]
     },
     "execution_count": 12,
     "metadata": {},
     "output_type": "execute_result"
    }
   ],
   "source": [
    "compras = pd.DataFrame({\n",
    "    \"producto\": [\n",
    "        \"Notebook Lenovo\", \"Mouse Logitech\", \"Monitor Samsung\",\n",
    "        \"Celular iPhone\", \"Placa de Video RTX 4070\", \"Teclado Mecánico\"\n",
    "    ],\n",
    "    \"categoria\": [\n",
    "        \"Computadoras\", \"Periféricos\", \"Monitores\",\n",
    "        \"Celulares\", \"Componentes\", \"Periféricos\"\n",
    "    ],\n",
    "    \"precio\": [850, 25, 220, 1200, 650, 80],\n",
    "    \"cantidad\": [2, 10, 4, 3, 1, 6],\n",
    "    \"origen\": [\"Importado\", \"Importado\", \"Nacional\", \"Importado\", \"Importado\", \"Nacional\"]\n",
    "})\n",
    "\n",
    "compras"
   ]
  },
  {
   "cell_type": "markdown",
   "id": "c0176ef4",
   "metadata": {},
   "source": [
    "Ejemplo de `apply` para calcular el costo total de cada compra"
   ]
  },
  {
   "cell_type": "code",
   "execution_count": 13,
   "id": "372c39c5",
   "metadata": {},
   "outputs": [
    {
     "data": {
      "text/html": [
       "<div>\n",
       "<style scoped>\n",
       "    .dataframe tbody tr th:only-of-type {\n",
       "        vertical-align: middle;\n",
       "    }\n",
       "\n",
       "    .dataframe tbody tr th {\n",
       "        vertical-align: top;\n",
       "    }\n",
       "\n",
       "    .dataframe thead th {\n",
       "        text-align: right;\n",
       "    }\n",
       "</style>\n",
       "<table border=\"1\" class=\"dataframe\">\n",
       "  <thead>\n",
       "    <tr style=\"text-align: right;\">\n",
       "      <th></th>\n",
       "      <th>producto</th>\n",
       "      <th>precio</th>\n",
       "      <th>total</th>\n",
       "    </tr>\n",
       "  </thead>\n",
       "  <tbody>\n",
       "    <tr>\n",
       "      <th>0</th>\n",
       "      <td>Notebook Lenovo</td>\n",
       "      <td>850</td>\n",
       "      <td>1700</td>\n",
       "    </tr>\n",
       "    <tr>\n",
       "      <th>1</th>\n",
       "      <td>Mouse Logitech</td>\n",
       "      <td>25</td>\n",
       "      <td>250</td>\n",
       "    </tr>\n",
       "    <tr>\n",
       "      <th>2</th>\n",
       "      <td>Monitor Samsung</td>\n",
       "      <td>220</td>\n",
       "      <td>880</td>\n",
       "    </tr>\n",
       "    <tr>\n",
       "      <th>3</th>\n",
       "      <td>Celular iPhone</td>\n",
       "      <td>1200</td>\n",
       "      <td>3600</td>\n",
       "    </tr>\n",
       "    <tr>\n",
       "      <th>4</th>\n",
       "      <td>Placa de Video RTX 4070</td>\n",
       "      <td>650</td>\n",
       "      <td>650</td>\n",
       "    </tr>\n",
       "    <tr>\n",
       "      <th>5</th>\n",
       "      <td>Teclado Mecánico</td>\n",
       "      <td>80</td>\n",
       "      <td>480</td>\n",
       "    </tr>\n",
       "  </tbody>\n",
       "</table>\n",
       "</div>"
      ],
      "text/plain": [
       "                  producto  precio  total\n",
       "0          Notebook Lenovo     850   1700\n",
       "1           Mouse Logitech      25    250\n",
       "2          Monitor Samsung     220    880\n",
       "3           Celular iPhone    1200   3600\n",
       "4  Placa de Video RTX 4070     650    650\n",
       "5         Teclado Mecánico      80    480"
      ]
     },
     "execution_count": 13,
     "metadata": {},
     "output_type": "execute_result"
    }
   ],
   "source": [
    "compras[\"total\"] = compras.apply(\n",
    "    lambda fila: fila[\"precio\"] * fila[\"cantidad\"], axis=1\n",
    ")\n",
    "compras[[\"producto\", \"precio\", \"total\"]]"
   ]
  },
  {
   "cell_type": "markdown",
   "id": "f3b317f7",
   "metadata": {},
   "source": [
    "Mismo ejemplo anterior, pero agregando un impuesto del 21% a compras del exterior"
   ]
  },
  {
   "cell_type": "code",
   "execution_count": 14,
   "id": "3cca149c",
   "metadata": {},
   "outputs": [
    {
     "name": "stdout",
     "output_type": "stream",
     "text": [
      "                  producto     origen  precio  cantidad   total\n",
      "0          Notebook Lenovo  Importado     850         2  2057.0\n",
      "1           Mouse Logitech  Importado      25        10   302.5\n",
      "2          Monitor Samsung   Nacional     220         4   880.0\n",
      "3           Celular iPhone  Importado    1200         3  4356.0\n",
      "4  Placa de Video RTX 4070  Importado     650         1   786.5\n",
      "5         Teclado Mecánico   Nacional      80         6   480.0\n"
     ]
    }
   ],
   "source": [
    "def total_unitario_con_impuesto(fila):\n",
    "    cantidad = fila[\"cantidad\"]\n",
    "    precio = fila[\"precio\"]\n",
    "    if fila[\"origen\"] == \"Importado\":\n",
    "        return round(precio * 1.21 * cantidad, 2)\n",
    "    return round(cantidad * precio, 2)\n",
    "\n",
    "compras[\"total\"] = compras.apply(total_unitario_con_impuesto, axis=1)\n",
    "print(compras[[\"producto\", \"origen\", \"precio\", \"cantidad\", \"total\"]])"
   ]
  },
  {
   "cell_type": "markdown",
   "id": "e107f298",
   "metadata": {},
   "source": [
    "**Transform** \n",
    "\n",
    "El resultado que devuelve es del mismo tamaño que la entrada.<br>\n",
    "Cada valor de la columna transformada mantiene la alineacion con las filas originales. <br>\n",
    "Ideal para cuando uno quiere reemplazar valosres o crear nuevas columnas sin perder la forma del DataFrame. <br>\n",
    "\n",
    "Entonces  <span style=\"color:blue\">**.transform()**</span> si uno necesita que cada fila conserve su posición y alineación pero con valores transformados."
   ]
  },
  {
   "cell_type": "code",
   "execution_count": 3,
   "id": "3f8699aa",
   "metadata": {},
   "outputs": [
    {
     "data": {
      "text/html": [
       "<div>\n",
       "<style scoped>\n",
       "    .dataframe tbody tr th:only-of-type {\n",
       "        vertical-align: middle;\n",
       "    }\n",
       "\n",
       "    .dataframe tbody tr th {\n",
       "        vertical-align: top;\n",
       "    }\n",
       "\n",
       "    .dataframe thead th {\n",
       "        text-align: right;\n",
       "    }\n",
       "</style>\n",
       "<table border=\"1\" class=\"dataframe\">\n",
       "  <thead>\n",
       "    <tr style=\"text-align: right;\">\n",
       "      <th></th>\n",
       "      <th>Nombre</th>\n",
       "      <th>Ciudad</th>\n",
       "      <th>Edad</th>\n",
       "      <th>Puntuacion</th>\n",
       "      <th>Categoria</th>\n",
       "      <th>Puntuacion_promedio_categoria</th>\n",
       "    </tr>\n",
       "  </thead>\n",
       "  <tbody>\n",
       "    <tr>\n",
       "      <th>0</th>\n",
       "      <td>Juan</td>\n",
       "      <td>Madrid</td>\n",
       "      <td>25</td>\n",
       "      <td>80</td>\n",
       "      <td>A</td>\n",
       "      <td>80.0</td>\n",
       "    </tr>\n",
       "    <tr>\n",
       "      <th>1</th>\n",
       "      <td>Ana</td>\n",
       "      <td>Barcelona</td>\n",
       "      <td>33</td>\n",
       "      <td>90</td>\n",
       "      <td>A</td>\n",
       "      <td>90.0</td>\n",
       "    </tr>\n",
       "    <tr>\n",
       "      <th>2</th>\n",
       "      <td>Luis</td>\n",
       "      <td>Madrid</td>\n",
       "      <td>30</td>\n",
       "      <td>85</td>\n",
       "      <td>B</td>\n",
       "      <td>88.0</td>\n",
       "    </tr>\n",
       "    <tr>\n",
       "      <th>3</th>\n",
       "      <td>Laura</td>\n",
       "      <td>Valencia</td>\n",
       "      <td>28</td>\n",
       "      <td>88</td>\n",
       "      <td>A</td>\n",
       "      <td>88.0</td>\n",
       "    </tr>\n",
       "    <tr>\n",
       "      <th>4</th>\n",
       "      <td>Pedro</td>\n",
       "      <td>Barcelona</td>\n",
       "      <td>45</td>\n",
       "      <td>75</td>\n",
       "      <td>B</td>\n",
       "      <td>75.0</td>\n",
       "    </tr>\n",
       "    <tr>\n",
       "      <th>5</th>\n",
       "      <td>Carla</td>\n",
       "      <td>Madrid</td>\n",
       "      <td>38</td>\n",
       "      <td>91</td>\n",
       "      <td>B</td>\n",
       "      <td>88.0</td>\n",
       "    </tr>\n",
       "  </tbody>\n",
       "</table>\n",
       "</div>"
      ],
      "text/plain": [
       "  Nombre     Ciudad  Edad  Puntuacion Categoria  Puntuacion_promedio_categoria\n",
       "0   Juan     Madrid    25          80         A                           80.0\n",
       "1    Ana  Barcelona    33          90         A                           90.0\n",
       "2   Luis     Madrid    30          85         B                           88.0\n",
       "3  Laura   Valencia    28          88         A                           88.0\n",
       "4  Pedro  Barcelona    45          75         B                           75.0\n",
       "5  Carla     Madrid    38          91         B                           88.0"
      ]
     },
     "execution_count": 3,
     "metadata": {},
     "output_type": "execute_result"
    }
   ],
   "source": [
    "#df.groupby(['Categoria', 'Ciudad'])['Puntuacion'].mean() # sin usar .transform()\n",
    "df['Puntuacion_promedio_categoria'] = df.groupby(['Categoria', 'Ciudad'])['Puntuacion'].transform('mean')\n",
    "df"
   ]
  },
  {
   "cell_type": "markdown",
   "id": "2ab03564",
   "metadata": {},
   "source": [
    "**Tablas dinámicas**\n",
    "\n",
    "Os queremos felicitar, queridos internautas. Han llegado casi al final del mini curso. Ahora, por último, hablaremos de tablas dinámicas. <br> \n",
    "\n",
    "La tabla dinámica organiza la información en forma de tabla, permitiendo:<br>\n",
    "a) Agrupar por filas y columnas. <br>\n",
    "b) Aplicar funciones estadísticas (media, suma, conteo, etc.). <br>\n",
    "c) Comparar categorías fácilmente.\n",
    "\n",
    "En Pandas se implementa con <span style=\"color:blue\">**.pivot_table()**</span>, lo que hace es tomar los datos del DataFrame original y los reorganiza en una tabla completamente nueva, donde los valores están resumidos según las reglas de agrupación y la función de agregación especificadas\n"
   ]
  },
  {
   "cell_type": "code",
   "execution_count": 5,
   "id": "3cda2681",
   "metadata": {},
   "outputs": [
    {
     "data": {
      "text/html": [
       "<div>\n",
       "<style scoped>\n",
       "    .dataframe tbody tr th:only-of-type {\n",
       "        vertical-align: middle;\n",
       "    }\n",
       "\n",
       "    .dataframe tbody tr th {\n",
       "        vertical-align: top;\n",
       "    }\n",
       "\n",
       "    .dataframe thead th {\n",
       "        text-align: right;\n",
       "    }\n",
       "</style>\n",
       "<table border=\"1\" class=\"dataframe\">\n",
       "  <thead>\n",
       "    <tr style=\"text-align: right;\">\n",
       "      <th>Categoria</th>\n",
       "      <th>A</th>\n",
       "      <th>B</th>\n",
       "    </tr>\n",
       "    <tr>\n",
       "      <th>Ciudad</th>\n",
       "      <th></th>\n",
       "      <th></th>\n",
       "    </tr>\n",
       "  </thead>\n",
       "  <tbody>\n",
       "    <tr>\n",
       "      <th>Barcelona</th>\n",
       "      <td>90.0</td>\n",
       "      <td>75.0</td>\n",
       "    </tr>\n",
       "    <tr>\n",
       "      <th>Madrid</th>\n",
       "      <td>80.0</td>\n",
       "      <td>88.0</td>\n",
       "    </tr>\n",
       "    <tr>\n",
       "      <th>Valencia</th>\n",
       "      <td>88.0</td>\n",
       "      <td>NaN</td>\n",
       "    </tr>\n",
       "  </tbody>\n",
       "</table>\n",
       "</div>"
      ],
      "text/plain": [
       "Categoria     A     B\n",
       "Ciudad               \n",
       "Barcelona  90.0  75.0\n",
       "Madrid     80.0  88.0\n",
       "Valencia   88.0   NaN"
      ]
     },
     "execution_count": 5,
     "metadata": {},
     "output_type": "execute_result"
    }
   ],
   "source": [
    "#Promedio de las puntuaciones agrupadas por ciudad y por categoría\n",
    "tabla_dinamica = df.pivot_table(\n",
    "    index='Ciudad',\n",
    "    columns='Categoria',\n",
    "    values='Puntuacion',\n",
    "    aggfunc='mean'\n",
    ")\n",
    "tabla_dinamica"
   ]
  },
  {
   "cell_type": "markdown",
   "id": "5e28b9f5",
   "metadata": {},
   "source": [
    "**¿Tenés la duda existencial de cuando ocupar groupby o pivot_table?** No te preocupes te explicamos a continuación. <br>\n",
    "\n",
    "<span style=\"color:blue\">**.groupby()**</span><br>\n",
    "\n",
    "Sirve para agrupar datos y luego calcular estadísticas (promedio, suma, conteo, etc.), si querés hacer varios pasos como agrupar, calcular, volver a ordenar, renombrar columnas, etc. es recomendable este metodo, pero ¡ojo! el resultado no siempre es tan “presentable”, porque te devuelve índices múltiples o estructuras menos legibles. <br>\n",
    "\n",
    "<span style=\"color:blue\">**.pivot_table()**</span><br>\n",
    "\n",
    "Sirve para resumir y mostrar datos de una manera clara, como en Excel,directamente te devuelve una tabla lista para análisis o presentación, no está pensado tanto para seguir encadenando cálculos, sino para visualizar bien los resultados."
   ]
  },
  {
   "cell_type": "markdown",
   "id": "a35ee7e0",
   "metadata": {},
   "source": [
    "**Tabla cruzada** <br>\n",
    "Una tabulación cruzada (o *tabla cruzada* , para abreviar) es un caso especial de tabla dinámica que calcula frecuencias de grupo<br>\n",
    "\n",
    "Este comando <span style=\"color:blue\">**.crosstab()**</span> crea una tabla de frecuencias cruzadas.<br>\n",
    "\n",
    "En términos sencillos, el script:\n",
    "**Analiza dos variables: Se fija en las columnas 'Ciudad' y 'Categoria'.**\n",
    "**Cuenta las combinaciones:** Cuenta cuántas veces aparece cada combinación única de valores en esas dos columnas. Por ejemplo, cuántas personas de Madrid son de la Categoría A, cuántas son de la Categoría B, cuántas de Barcelona son de la Categoría A, etc.\n",
    "\n",
    "El resultado es una tabla que te permite ver rápidamente el número de personas en cada grupo, sin necesidad de calcular promedios ni sumas. Es ideal para analizar la relación o distribución entre dos variables categóricas."
   ]
  },
  {
   "cell_type": "code",
   "execution_count": 6,
   "id": "9d197104",
   "metadata": {},
   "outputs": [
    {
     "data": {
      "text/html": [
       "<div>\n",
       "<style scoped>\n",
       "    .dataframe tbody tr th:only-of-type {\n",
       "        vertical-align: middle;\n",
       "    }\n",
       "\n",
       "    .dataframe tbody tr th {\n",
       "        vertical-align: top;\n",
       "    }\n",
       "\n",
       "    .dataframe thead th {\n",
       "        text-align: right;\n",
       "    }\n",
       "</style>\n",
       "<table border=\"1\" class=\"dataframe\">\n",
       "  <thead>\n",
       "    <tr style=\"text-align: right;\">\n",
       "      <th>Categoria</th>\n",
       "      <th>A</th>\n",
       "      <th>B</th>\n",
       "    </tr>\n",
       "    <tr>\n",
       "      <th>Ciudad</th>\n",
       "      <th></th>\n",
       "      <th></th>\n",
       "    </tr>\n",
       "  </thead>\n",
       "  <tbody>\n",
       "    <tr>\n",
       "      <th>Barcelona</th>\n",
       "      <td>1</td>\n",
       "      <td>1</td>\n",
       "    </tr>\n",
       "    <tr>\n",
       "      <th>Madrid</th>\n",
       "      <td>1</td>\n",
       "      <td>2</td>\n",
       "    </tr>\n",
       "    <tr>\n",
       "      <th>Valencia</th>\n",
       "      <td>1</td>\n",
       "      <td>0</td>\n",
       "    </tr>\n",
       "  </tbody>\n",
       "</table>\n",
       "</div>"
      ],
      "text/plain": [
       "Categoria  A  B\n",
       "Ciudad         \n",
       "Barcelona  1  1\n",
       "Madrid     1  2\n",
       "Valencia   1  0"
      ]
     },
     "execution_count": 6,
     "metadata": {},
     "output_type": "execute_result"
    }
   ],
   "source": [
    "tabulacion_cruzada = pd.crosstab(df['Ciudad'], df['Categoria'])\n",
    "tabulacion_cruzada"
   ]
  }
 ],
 "metadata": {
  "kernelspec": {
   "display_name": "venv",
   "language": "python",
   "name": "python3"
  },
  "language_info": {
   "codemirror_mode": {
    "name": "ipython",
    "version": 3
   },
   "file_extension": ".py",
   "mimetype": "text/x-python",
   "name": "python",
   "nbconvert_exporter": "python",
   "pygments_lexer": "ipython3",
   "version": "3.13.2"
  }
 },
 "nbformat": 4,
 "nbformat_minor": 5
}
